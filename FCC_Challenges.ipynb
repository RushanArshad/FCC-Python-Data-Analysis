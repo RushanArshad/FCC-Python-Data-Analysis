{
  "nbformat": 4,
  "nbformat_minor": 0,
  "metadata": {
    "colab": {
      "name": "FCC Challenges.ipynb",
      "provenance": [],
      "authorship_tag": "ABX9TyPOy2zYmRmC1TSNZIl+d+6h",
      "include_colab_link": true
    },
    "kernelspec": {
      "name": "python3",
      "display_name": "Python 3"
    }
  },
  "cells": [
    {
      "cell_type": "markdown",
      "metadata": {
        "id": "view-in-github",
        "colab_type": "text"
      },
      "source": [
        "<a href=\"https://colab.research.google.com/github/RushanArshad/FCC-Python-Data-Analysis/blob/main/FCC_Challenges.ipynb\" target=\"_parent\"><img src=\"https://colab.research.google.com/assets/colab-badge.svg\" alt=\"Open In Colab\"/></a>"
      ]
    },
    {
      "cell_type": "code",
      "metadata": {
        "colab": {
          "base_uri": "https://localhost:8080/"
        },
        "id": "6JqQ6eg1F9Qt",
        "outputId": "a040821f-832f-488e-90d1-3e446e267c5e"
      },
      "source": [
        "import pandas as pd\n",
        "import matplotlib.pyplot as plt \n",
        "\n",
        "certificates_earned = pd.Series(\n",
        "    [8, 2, 5, 6],\n",
        "    index=['Tom', 'Kris', 'Ahmad', 'Beau']\n",
        ")\n",
        "print(certificates_earned[certificates_earned > 5])"
      ],
      "execution_count": 17,
      "outputs": [
        {
          "output_type": "stream",
          "text": [
            "Tom     8\n",
            "Beau    6\n",
            "dtype: int64\n"
          ],
          "name": "stdout"
        }
      ]
    },
    {
      "cell_type": "code",
      "metadata": {
        "colab": {
          "base_uri": "https://localhost:8080/"
        },
        "id": "4mhORLM4GpPC",
        "outputId": "d43afd98-8188-4eff-d772-2c2b86351bd2"
      },
      "source": [
        "import pandas as pd\n",
        "\n",
        "certificates_earned = pd.DataFrame({\n",
        "    'Certificates': [8, 2, 5, 6],\n",
        "    'Time (in months)': [16, 5, 9, 12]\n",
        "})\n",
        "\n",
        "certificates_earned.index = ['Tom', 'Kris', 'Ahmad', 'Beau']\n",
        "\n",
        "print(certificates_earned.iloc[2])"
      ],
      "execution_count": 3,
      "outputs": [
        {
          "output_type": "stream",
          "text": [
            "Certificates        5\n",
            "Time (in months)    9\n",
            "Name: Ahmad, dtype: int64\n"
          ],
          "name": "stdout"
        }
      ]
    },
    {
      "cell_type": "markdown",
      "metadata": {
        "id": "2OUeW0TqI6C2"
      },
      "source": [
        "Pandas Conditional Selectio nand Modifying DataFrames"
      ]
    },
    {
      "cell_type": "code",
      "metadata": {
        "colab": {
          "base_uri": "https://localhost:8080/"
        },
        "id": "Yfz9G2oaI_6H",
        "outputId": "e271356c-6045-4afd-bdef-79f63ac63518"
      },
      "source": [
        "import pandas as pd\n",
        "\n",
        "certificates_earned = pd.DataFrame({\n",
        "    'Certificates': [8, 2, 5, 6],\n",
        "    'Time (in months)': [16, 5, 9, 12]\n",
        "})\n",
        "names = ['Tom', 'Kris', 'Ahmad', 'Beau']\n",
        "\n",
        "certificates_earned.index = names\n",
        "longest_streak = pd.Series([13, 11, 9, 7], index=names)\n",
        "certificates_earned['Longest streak'] = longest_streak\n",
        "\n",
        "print(certificates_earned)"
      ],
      "execution_count": 4,
      "outputs": [
        {
          "output_type": "stream",
          "text": [
            "       Certificates  Time (in months)  Longest streak\n",
            "Tom               8                16              13\n",
            "Kris              2                 5              11\n",
            "Ahmad             5                 9               9\n",
            "Beau              6                12               7\n"
          ],
          "name": "stdout"
        }
      ]
    },
    {
      "cell_type": "markdown",
      "metadata": {
        "id": "XYax7SPDJKtQ"
      },
      "source": [
        "Pandas Creating Columns"
      ]
    },
    {
      "cell_type": "code",
      "metadata": {
        "colab": {
          "base_uri": "https://localhost:8080/"
        },
        "id": "AOU9BF7zJL2q",
        "outputId": "fe18e900-572a-451c-8039-15a1fdc02abc"
      },
      "source": [
        "certificates_earned['Certificates per month'] = round(\n",
        "    certificates_earned['Certificates'] /\n",
        "    certificates_earned['Time (in months)'], 2\n",
        ")\n",
        "print(certificates_earned)"
      ],
      "execution_count": 9,
      "outputs": [
        {
          "output_type": "stream",
          "text": [
            "       Certificates  Time (in months)  Longest streak  Certificates per month\n",
            "Tom               8                16              13                    0.50\n",
            "Kris              2                 5              11                    0.40\n",
            "Ahmad             5                 9               9                    0.56\n",
            "Beau              6                12               7                    0.50\n"
          ],
          "name": "stdout"
        }
      ]
    },
    {
      "cell_type": "markdown",
      "metadata": {
        "id": "05T4vnoDJz2i"
      },
      "source": [
        "Data Cleaning Introduction"
      ]
    },
    {
      "cell_type": "code",
      "metadata": {
        "colab": {
          "base_uri": "https://localhost:8080/"
        },
        "id": "5kENpaQDKsOZ",
        "outputId": "fa688fcc-5327-49d1-d60f-9a7ed6ba41b2"
      },
      "source": [
        "import pandas as pd\n",
        "import numpy as np\n",
        "\n",
        "s = pd.Series(['a', 3, np.nan, 1, np.nan])\n",
        "\n",
        "print(s.notnull().sum())"
      ],
      "execution_count": 10,
      "outputs": [
        {
          "output_type": "stream",
          "text": [
            "3\n"
          ],
          "name": "stdout"
        }
      ]
    },
    {
      "cell_type": "markdown",
      "metadata": {
        "id": "iJ81cvf8K4HE"
      },
      "source": [
        "**Data Cleaning with DataFrames**"
      ]
    },
    {
      "cell_type": "code",
      "metadata": {
        "colab": {
          "base_uri": "https://localhost:8080/"
        },
        "id": "JbaznwU3K65R",
        "outputId": "9e7f16df-581f-4ef4-94aa-6c8c13895a1e"
      },
      "source": [
        "import pandas as pd\n",
        "import numpy as np\n",
        "\n",
        "s = pd.Series([np.nan, 1, 2, np.nan, 3])\n",
        "s = s.fillna(method='ffill')\n",
        "\n",
        "print(s)"
      ],
      "execution_count": 11,
      "outputs": [
        {
          "output_type": "stream",
          "text": [
            "0    NaN\n",
            "1    1.0\n",
            "2    2.0\n",
            "3    2.0\n",
            "4    3.0\n",
            "dtype: float64\n"
          ],
          "name": "stdout"
        }
      ]
    },
    {
      "cell_type": "markdown",
      "metadata": {
        "id": "1x3LXxHeL8hE"
      },
      "source": [
        "**Data Cleaning Duplicates** Consider the following dataset for ramen rating: "
      ]
    },
    {
      "cell_type": "code",
      "metadata": {
        "colab": {
          "base_uri": "https://localhost:8080/",
          "height": 204
        },
        "id": "pbpAwiU1L-do",
        "outputId": "c76b70a5-c40a-4e5b-fc11-d78a2703153b"
      },
      "source": [
        "df = pd.DataFrame({\n",
        "...     'brand': ['Yum Yum', 'Yum Yum', 'Indomie', 'Indomie', 'Indomie'],\n",
        "...     'style': ['cup', 'cup', 'cup', 'pack', 'pack'],\n",
        "...     'rating': [4, 4, 3.5, 15, 5]\n",
        "... })\n",
        ">>> df"
      ],
      "execution_count": 12,
      "outputs": [
        {
          "output_type": "execute_result",
          "data": {
            "text/html": [
              "<div>\n",
              "<style scoped>\n",
              "    .dataframe tbody tr th:only-of-type {\n",
              "        vertical-align: middle;\n",
              "    }\n",
              "\n",
              "    .dataframe tbody tr th {\n",
              "        vertical-align: top;\n",
              "    }\n",
              "\n",
              "    .dataframe thead th {\n",
              "        text-align: right;\n",
              "    }\n",
              "</style>\n",
              "<table border=\"1\" class=\"dataframe\">\n",
              "  <thead>\n",
              "    <tr style=\"text-align: right;\">\n",
              "      <th></th>\n",
              "      <th>brand</th>\n",
              "      <th>style</th>\n",
              "      <th>rating</th>\n",
              "    </tr>\n",
              "  </thead>\n",
              "  <tbody>\n",
              "    <tr>\n",
              "      <th>0</th>\n",
              "      <td>Yum Yum</td>\n",
              "      <td>cup</td>\n",
              "      <td>4.0</td>\n",
              "    </tr>\n",
              "    <tr>\n",
              "      <th>1</th>\n",
              "      <td>Yum Yum</td>\n",
              "      <td>cup</td>\n",
              "      <td>4.0</td>\n",
              "    </tr>\n",
              "    <tr>\n",
              "      <th>2</th>\n",
              "      <td>Indomie</td>\n",
              "      <td>cup</td>\n",
              "      <td>3.5</td>\n",
              "    </tr>\n",
              "    <tr>\n",
              "      <th>3</th>\n",
              "      <td>Indomie</td>\n",
              "      <td>pack</td>\n",
              "      <td>15.0</td>\n",
              "    </tr>\n",
              "    <tr>\n",
              "      <th>4</th>\n",
              "      <td>Indomie</td>\n",
              "      <td>pack</td>\n",
              "      <td>5.0</td>\n",
              "    </tr>\n",
              "  </tbody>\n",
              "</table>\n",
              "</div>"
            ],
            "text/plain": [
              "     brand style  rating\n",
              "0  Yum Yum   cup     4.0\n",
              "1  Yum Yum   cup     4.0\n",
              "2  Indomie   cup     3.5\n",
              "3  Indomie  pack    15.0\n",
              "4  Indomie  pack     5.0"
            ]
          },
          "metadata": {
            "tags": []
          },
          "execution_count": 12
        }
      ]
    },
    {
      "cell_type": "markdown",
      "metadata": {
        "id": "mOFtHR0TMtOm"
      },
      "source": [
        "Now, lets see what happens when we use duplicated method on it"
      ]
    },
    {
      "cell_type": "code",
      "metadata": {
        "colab": {
          "base_uri": "https://localhost:8080/"
        },
        "id": "tQowKo2rMx8a",
        "outputId": "36887bf0-27f9-42e6-83f1-07553ade1cab"
      },
      "source": [
        "df.duplicated()"
      ],
      "execution_count": 13,
      "outputs": [
        {
          "output_type": "execute_result",
          "data": {
            "text/plain": [
              "0    False\n",
              "1     True\n",
              "2    False\n",
              "3    False\n",
              "4    False\n",
              "dtype: bool"
            ]
          },
          "metadata": {
            "tags": []
          },
          "execution_count": 13
        }
      ]
    },
    {
      "cell_type": "markdown",
      "metadata": {
        "id": "1wbhrfUzNSs1"
      },
      "source": [
        "**Reading Data Introduction**"
      ]
    },
    {
      "cell_type": "code",
      "metadata": {
        "colab": {
          "base_uri": "https://localhost:8080/",
          "height": 130
        },
        "id": "KNm0YAABNUi-",
        "outputId": "454dd4d4-25f4-451e-c96a-531b8285f455"
      },
      "source": [
        "import csv\n",
        "\n",
        "with open(certificates.csv, 'r') as fp:\n",
        "    reader = csv.reader(fp, delimiter=$)\n",
        "    next(reader)\n",
        "    for index, values in enumerate(reader):\n",
        "        name, certs_num, months_num = values\n",
        "        print(f\"{name} earned {certs_num} certificates in {months_num} months\")\n"
      ],
      "execution_count": 18,
      "outputs": [
        {
          "output_type": "error",
          "ename": "SyntaxError",
          "evalue": "ignored",
          "traceback": [
            "\u001b[0;36m  File \u001b[0;32m\"<ipython-input-18-567ce694f9b1>\"\u001b[0;36m, line \u001b[0;32m4\u001b[0m\n\u001b[0;31m    reader = csv.reader(fp, delimiter=$)\u001b[0m\n\u001b[0m                                      ^\u001b[0m\n\u001b[0;31mSyntaxError\u001b[0m\u001b[0;31m:\u001b[0m invalid syntax\n"
          ]
        }
      ]
    },
    {
      "cell_type": "markdown",
      "metadata": {
        "id": "beKgHclmP963"
      },
      "source": [
        "**Reading Data CSV and TXT**"
      ]
    },
    {
      "cell_type": "markdown",
      "metadata": {
        "id": "oRniPENRQelW"
      },
      "source": [
        "How would you import the CSV file data.csv and store it in a DataFrame using the Pandas module?\n",
        "\n",
        "\n",
        "import pandas as pd\n",
        "df = pd.csv(\"data.csv\")\n",
        "\n",
        "import pandas as pd\n",
        "df = pd.read_csv(\"data.csv\") **CORRECT**\n",
        "\n",
        "import pandas as pd\n",
        "pd.read_csv(\"data.csv\")\n",
        "\n",
        "import pandas as pd\n",
        "df = pd.csv_reader(\"data.csv\")"
      ]
    },
    {
      "cell_type": "markdown",
      "metadata": {
        "id": "19pfrweBQmER"
      },
      "source": [
        "**Reading Data from Databases**"
      ]
    },
    {
      "cell_type": "markdown",
      "metadata": {
        "id": "qfDaUAiFQ2PQ"
      },
      "source": [
        "What method does a Cursor instance have and what does it allow?\n",
        "\n",
        "\n",
        "The Cursor instance has a .run() method which allows you to run SQL queries.\n",
        "\n",
        "The Cursor instance has a .select() method which allows you to select records.\n",
        "\n",
        "The Cursor instance has an .execute() method which will receive SQL parameters to run against the database. **CORRECT**"
      ]
    },
    {
      "cell_type": "markdown",
      "metadata": {
        "id": "BE4Wfcz2ROwV"
      },
      "source": [
        "**Parsing HTML and Saving Data**"
      ]
    },
    {
      "cell_type": "markdown",
      "metadata": {
        "id": "-IxF5KCaQ87W"
      },
      "source": [
        "What Python library has the .read_html() method we can we use for parsing HTML documents and extracting tables?\n",
        "\n",
        "\n",
        "BeautifierSoupy\n",
        "\n",
        "WebReader\n",
        "\n",
        "HTTP-master\n",
        "\n",
        "Pandas.  **CORRECT**\n"
      ]
    },
    {
      "cell_type": "markdown",
      "metadata": {
        "id": "I_HcgqyCRUsa"
      },
      "source": [
        "**Introduction to Numpy**"
      ]
    },
    {
      "cell_type": "markdown",
      "metadata": {
        "id": "t2EuifB9SJl7"
      },
      "source": [
        "Why are Numpy arrays faster than regular Python lists?\n",
        "\n",
        "\n",
        "Numpy does not perform type checking while iterating through objects.\n",
        "\n",
        "Numpy uses fixed types.\n",
        "\n",
        "Numpy uses contiguous memory.\n",
        "\n",
        "All of the above.  **CORRECT**\n"
      ]
    },
    {
      "cell_type": "markdown",
      "metadata": {
        "id": "MP2GoZ8rSUGB"
      },
      "source": [
        "**Basics of Numpy**"
      ]
    },
    {
      "cell_type": "code",
      "metadata": {
        "colab": {
          "base_uri": "https://localhost:8080/"
        },
        "id": "qItWzHbnSbJz",
        "outputId": "61d7353f-98d5-4372-960e-77b21f8f36fc"
      },
      "source": [
        "b = np.array([[1.0,2.0,3.0],[3.0,4.0,5.0]])\n",
        "print(b)"
      ],
      "execution_count": 19,
      "outputs": [
        {
          "output_type": "stream",
          "text": [
            "[[1. 2. 3.]\n",
            " [3. 4. 5.]]\n"
          ],
          "name": "stdout"
        }
      ]
    },
    {
      "cell_type": "markdown",
      "metadata": {
        "id": "4DoRsmIPSqpA"
      },
      "source": [
        "**Numpy - Accessing and Changing Elements, Rows, Columns**"
      ]
    },
    {
      "cell_type": "code",
      "metadata": {
        "colab": {
          "base_uri": "https://localhost:8080/"
        },
        "id": "u21B7CrXSsyW",
        "outputId": "128472d9-b038-411e-d22e-2ed74926e3ed"
      },
      "source": [
        "a = np.array([[1, 2, 3, 4, 5], [6, 7, 8, 9, 10]])\n",
        "\n",
        "a[:, 2] = 20\n",
        "\n",
        "print(a)\n",
        "\n",
        "# Output:\n",
        "# [[ 1  2  20  4  5]\n",
        "# [ 6  7 20  9 10]]"
      ],
      "execution_count": 22,
      "outputs": [
        {
          "output_type": "stream",
          "text": [
            "[[ 1  2 20  4  5]\n",
            " [ 6  7 20  9 10]]\n"
          ],
          "name": "stdout"
        }
      ]
    },
    {
      "cell_type": "markdown",
      "metadata": {
        "id": "KcoJnt9wTKYM"
      },
      "source": [
        "**Numpy - Initializing Different Arrays**"
      ]
    },
    {
      "cell_type": "code",
      "metadata": {
        "colab": {
          "base_uri": "https://localhost:8080/"
        },
        "id": "manMganPTMSa",
        "outputId": "0a71db12-ced9-4eab-f2c4-a558b8a6ba54"
      },
      "source": [
        "a = np.array([[1, 2, 3, 4, 5], [6, 7, 8, 9, 10]])\n",
        "\n",
        "print(np.full_like(a, 100))"
      ],
      "execution_count": 23,
      "outputs": [
        {
          "output_type": "stream",
          "text": [
            "[[100 100 100 100 100]\n",
            " [100 100 100 100 100]]\n"
          ],
          "name": "stdout"
        }
      ]
    },
    {
      "cell_type": "markdown",
      "metadata": {
        "id": "S8RbbjF-Tf77"
      },
      "source": [
        "**Numpy - Initialize Array Problem**"
      ]
    },
    {
      "cell_type": "code",
      "metadata": {
        "colab": {
          "base_uri": "https://localhost:8080/"
        },
        "id": "PUgBtTqbTiWO",
        "outputId": "e1a307e2-d978-4a59-9cee-e3a3e944b3f7"
      },
      "source": [
        "output = np.zeros((7,7))\n",
        "\n",
        "z = np.ones((5, 5))\n",
        "z[2, 2] = 5\n",
        "\n",
        "output[1:-1, 1:-1] = z\n",
        "\n",
        "print(output)"
      ],
      "execution_count": 26,
      "outputs": [
        {
          "output_type": "stream",
          "text": [
            "[[0. 0. 0. 0. 0. 0. 0.]\n",
            " [0. 1. 1. 1. 1. 1. 0.]\n",
            " [0. 1. 1. 1. 1. 1. 0.]\n",
            " [0. 1. 1. 5. 1. 1. 0.]\n",
            " [0. 1. 1. 1. 1. 1. 0.]\n",
            " [0. 1. 1. 1. 1. 1. 0.]\n",
            " [0. 0. 0. 0. 0. 0. 0.]]\n"
          ],
          "name": "stdout"
        }
      ]
    },
    {
      "cell_type": "markdown",
      "metadata": {
        "id": "gsGuV9bTUCMF"
      },
      "source": [
        "**Copying Arrays Warning**"
      ]
    },
    {
      "cell_type": "code",
      "metadata": {
        "id": "Gu0PXRQrUD_x"
      },
      "source": [
        "import numpy as np\n",
        "\n",
        "a = np.array([1, 2, 3, 4, 5])\n",
        "b = a\n",
        "b[2] = 20"
      ],
      "execution_count": null,
      "outputs": []
    },
    {
      "cell_type": "markdown",
      "metadata": {
        "id": "3X1lZ2X8W95Z"
      },
      "source": [
        "**Numpy - Mathematics**\n",
        "\n",
        "Numpy max function along with sum function adds max values from both rows and returns a scalar."
      ]
    },
    {
      "cell_type": "code",
      "metadata": {
        "colab": {
          "base_uri": "https://localhost:8080/"
        },
        "id": "-l55YiM4W_v8",
        "outputId": "b132563a-9f5d-405d-e082-af3dcea61870"
      },
      "source": [
        "import numpy as np\n",
        "\n",
        "a = np.array(([1, 2, 3, 4, 5], [6, 7, 8, 9, 10]))\n",
        "b = np.max(a, axis=1).sum()\n",
        "\n",
        "print(b)"
      ],
      "execution_count": 27,
      "outputs": [
        {
          "output_type": "stream",
          "text": [
            "15\n"
          ],
          "name": "stdout"
        }
      ]
    },
    {
      "cell_type": "markdown",
      "metadata": {
        "id": "7yjJ1kcWXxyr"
      },
      "source": [
        "**Numpy - Reorganizing Arrays**"
      ]
    },
    {
      "cell_type": "code",
      "metadata": {
        "colab": {
          "base_uri": "https://localhost:8080/"
        },
        "id": "OZSUeqEOXzSB",
        "outputId": "b20f045c-8acf-474c-d41b-70ff06b4e145"
      },
      "source": [
        "a = np.ones((2, 4))\n",
        "b = a.reshape((4, 2))\n",
        "print(b)"
      ],
      "execution_count": 28,
      "outputs": [
        {
          "output_type": "stream",
          "text": [
            "[[1. 1.]\n",
            " [1. 1.]\n",
            " [1. 1.]\n",
            " [1. 1.]]\n"
          ],
          "name": "stdout"
        }
      ]
    }
  ]
}